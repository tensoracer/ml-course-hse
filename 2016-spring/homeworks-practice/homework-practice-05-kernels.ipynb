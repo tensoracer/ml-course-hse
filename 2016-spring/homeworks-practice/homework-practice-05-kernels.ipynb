{
 "cells": [
  {
   "cell_type": "markdown",
   "metadata": {
    "deletable": true,
    "editable": true
   },
   "source": [
    "# Машинное обучение, ФКН ВШЭ\n",
    "\n",
    "# Практическое задание 5\n",
    "\n",
    "## Общая информация\n",
    "\n",
    "Дата выдачи: 26.02.2017\n",
    "\n",
    "Срок сдачи: 23:59MSK 12.03.2017\n",
    "\n",
    "### О задании\n",
    "\n",
    "Практическое задание 5 посвящено использованию ядер в методах машинного обучения. В рамках данного задания вы:\n",
    " * исследуете вид разделяющих поверхностей в исходном пространстве в зависимости от типа используемов ядра и значений его параметров;\n",
    " * используете ядра для решения реальной задачи;\n",
    " * реализуете пользовательское ядро для использования в ядровом SVM;\n",
    " * используете аппроксимации ядер;\n",
    " * поймёте, почему ядра — это не всегда хорошо.\n",
    "\n",
    "### Оценивание и штрафы\n",
    "\n",
    "Каждая из задач имеет определенную «стоимость» (указана в скобках около задачи). Максимально допустимая оценка за работу — 10 баллов.\n",
    "\n",
    "Сдавать задание после указанного срока сдачи нельзя. При выставлении неполного балла за задание в связи с наличием ошибок на усмотрение проверяющего предусмотрена возможность исправить работу на указанных в ответном письме условиях.\n",
    "\n",
    "Задание выполняется самостоятельно. «Похожие» решения считаются плагиатом и все задействованные студенты (в том числе те, у кого списали) не могут получить за него больше 0 баллов (подробнее о плагиате см. на странице курса). Если вы нашли решение какого-то из заданий (или его часть) в открытом источнике, необходимо указать ссылку на этот источник в отдельном блоке в конце Вашей работы (скорее всего вы будете не единственным, кто это нашел, поэтому чтобы исключить подозрение в плагиате, необходима ссылка на источник). \n",
    "\n",
    "Неэффективная реализация кода может негативно отразиться на оценке.\n",
    "\n",
    "\n",
    "### Формат сдачи\n",
    "Для сдачи задания переименуйте получившийся файл \\*.ipynb в соответствии со следующим форматом: *HW5_Username.ipynb*, где *Username* — Ваша фамилия и инициалы на латинице (например, *HW5_IvanovII.ipynb*). Далее отправьте этот файл на hse.cs.ml+<номер группы>@gmail.com (например, hse.cs.ml+141@gmail.com для студентов группы БПМИ-141)."
   ]
  },
  {
   "cell_type": "markdown",
   "metadata": {
    "deletable": true,
    "editable": true
   },
   "source": [
    "## Ядровой SVM\n",
    "\n",
    "**1. (0 баллов)** Сгенерируйте три случайные двумерные выборки для бинарной классификации (хотя бы по 400 точек в каждой):\n",
    "- с линейно разделимыми классами;\n",
    "- с хорошо разделимыми классами, но не линейно разделимыми;\n",
    "- с плохо разделимыми классами.\n",
    "\n",
    "Визуализируйте полученные выборки на плоскости.\n",
    "\n",
    "Для генерации случайной выборки можно использовать функции из модуля [sklearn.datasets](http://scikit-learn.org/stable/modules/classes.html#module-sklearn.datasets)."
   ]
  },
  {
   "cell_type": "code",
   "execution_count": null,
   "metadata": {
    "collapsed": true,
    "deletable": true,
    "editable": true
   },
   "outputs": [],
   "source": [
    "# Your code here"
   ]
  },
  {
   "cell_type": "markdown",
   "metadata": {
    "deletable": true,
    "editable": true
   },
   "source": [
    "В [лекции 13](https://github.com/esokolov/ml-course-hse/blob/master/2016-fall/lecture-notes/lecture13-features.pdf) была сформулирована двойственная задача метода опорных векторов:\n",
    "$$\\begin{cases}\n",
    "\\sum_{i=1}^l \\lambda_i - \\frac{1}{2} \\sum_{i, \\, j =1}^l \\lambda_i \\lambda_j y_i y_j \\langle x_i, x_j\\rangle \\to \\max_\\lambda,\\\\\n",
    "0 \\le \\lambda_i \\le C, i = \\overline{1, l},\\\\\n",
    "\\sum_{i=1}^l \\lambda_i y_i = 0.\n",
    "\\end{cases}$$\n",
    "\n",
    "После решения данной задачи прогнозы для новых объектов строятся следующим образом: $a(x) = \\text{sign} \\left( \\sum_{i=1}^l \\lambda_i y_i \\langle x_i, x \\rangle + b \\right).$\n",
    "\n",
    "Заметим, что и оптимизационная задача, и формула итогового классификатора зависят лишь от скалярных произведений объектов, а потому в данном методе можно использовать ядра для восстановления нелинейных зависимостей."
   ]
  },
  {
   "cell_type": "markdown",
   "metadata": {
    "deletable": true,
    "editable": true
   },
   "source": [
    "**2. (1.5 балла)** Обучите на сгенерированных ранее двумерных выборках [ядровой SVM](http://scikit-learn.org/stable/modules/generated/sklearn.svm.SVC.html) с использованием следующих типов ядер (для различных значений гиперпараметра $C$):\n",
    "- линейное: $K(x, z) = \\langle x, z \\rangle$;\n",
    "- полиномиальное: $K(x, z) = (\\gamma \\langle x, z \\rangle + 1)^d$ (для различных значений $\\gamma, d$);\n",
    "- гауссовское: $K(x, z) = \\exp(-\\gamma \\|x - z\\|^2)$ (для различных значений $\\gamma$).\n",
    "\n",
    "Визуализируйте разделяющую поверхность и разделяющую полосу:\n",
    " - для модели с линейным ядром для различных значений $C$;\n",
    " - для моделей, использующих полиномиальное и гауссовское ядро, соответствующих недообучению, нормальному поведению и переобучению."
   ]
  },
  {
   "cell_type": "code",
   "execution_count": null,
   "metadata": {
    "collapsed": true,
    "deletable": true,
    "editable": true
   },
   "outputs": [],
   "source": [
    "# Your code here"
   ]
  },
  {
   "cell_type": "markdown",
   "metadata": {
    "deletable": true,
    "editable": true
   },
   "source": [
    "**3. (0.5 балла)** Ответьте на следующие вопросы:\n",
    " - Как ведет себя SVM с полиномиальным ядром в зависимости от значений гиперпараметра $C$, степени ядра $d$ и параметра $\\gamma$?\n",
    " - Как ведет себя SVM с гауссовским ядром в зависимости от значений гиперпараметра $C$ и $\\gamma$?"
   ]
  },
  {
   "cell_type": "markdown",
   "metadata": {
    "deletable": true,
    "editable": true
   },
   "source": [
    "**Ответ:**"
   ]
  },
  {
   "cell_type": "markdown",
   "metadata": {
    "deletable": true,
    "editable": true
   },
   "source": [
    "**4. (0.5 балла)** Обучите модели с использованием ядер из п. 2 для задачи бинарной классификации [Predicting a Biological Response](https://www.kaggle.com/c/bioresponse) (используйте файл train.csv) для значения $C=1.$ Для оценки качества разбейте выборку на обучающую и тестовую в отношении 50/50. Постройте модель, позволяющую достичь значения accuracy, равного 0.75, на тестовой выборке. Позволяет ли использование ядер достичь лучшего качества по сравнению с линейной моделью?"
   ]
  },
  {
   "cell_type": "code",
   "execution_count": null,
   "metadata": {
    "collapsed": true,
    "deletable": true,
    "editable": true
   },
   "outputs": [],
   "source": [
    "# Your code here"
   ]
  },
  {
   "cell_type": "markdown",
   "metadata": {
    "deletable": true,
    "editable": true
   },
   "source": [
    "**Ответ:**"
   ]
  },
  {
   "cell_type": "markdown",
   "metadata": {
    "deletable": true,
    "editable": true
   },
   "source": [
    "## Аппроксимации ядер\n",
    "\n",
    "К сожалению, использование ядер, особенно при больших размерах выборок, как правило, значительно увеличивает сложность процедуры обучения модели. Для решения этой проблемы используется аппроксимация спрямляющего пространства — в частности, в рамках курса рассматривались [метод Нистрома](http://scikit-learn.org/stable/modules/generated/sklearn.kernel_approximation.Nystroem.html#sklearn.kernel_approximation.Nystroem) и [метод случайных признаков Фурье](http://scikit-learn.org/stable/modules/generated/sklearn.kernel_approximation.RBFSampler.html#sklearn.kernel_approximation.RBFSampler)."
   ]
  },
  {
   "cell_type": "markdown",
   "metadata": {
    "deletable": true,
    "editable": true
   },
   "source": [
    "**5. (2 балла)** Модифицируйте модель с использованием ядра из п. 4 путём аппроксимаций ядер, реализованных в модуле [sklearn.kernel_approximation](http://scikit-learn.org/stable/modules/classes.html#module-sklearn.kernel_approximation). Постройте график зависимости accuracy на тестовой выборке в зависимости от значения параметра n_components, используемого при аппроксимации. Какие выводы можно сделать?"
   ]
  },
  {
   "cell_type": "code",
   "execution_count": null,
   "metadata": {
    "collapsed": false,
    "deletable": true,
    "editable": true
   },
   "outputs": [],
   "source": [
    "# Your code here"
   ]
  },
  {
   "cell_type": "markdown",
   "metadata": {
    "deletable": true,
    "editable": true
   },
   "source": [
    "## All-subsequences kernel"
   ]
  },
  {
   "cell_type": "markdown",
   "metadata": {},
   "source": [
    "Попробуем при помощи ядрового SVM с использованием all-subsequences-kernel (описано в [материалах семинара 14](https://github.com/esokolov/ml-course-hse/blob/master/2016-spring/seminars/sem14-kernels.pdf)) решить задачу [20newsgroups](http://scikit-learn.org/stable/datasets/twenty_newsgroups.html) классификации текстов статей по темам.\n",
    "\n",
    "**6. (0 баллов)** Загрузите двухклассовую обучающую и тестовую выборки (используя параметр subset функции [fetch_20newsgroups](http://scikit-learn.org/stable/modules/generated/sklearn.datasets.fetch_20newsgroups.html#sklearn.datasets.fetch_20newsgroups)) для категорий rec.autos и soc.religion.christian со следующими значениями параметров:\n",
    "    * shuffle=True;\n",
    "    * random_state=1;\n",
    "    * remove=('headers', 'footers', 'quotes').\n",
    "Загрузите выборки таким образом, чтобы целевая переменная принимала значения $\\pm1$."
   ]
  },
  {
   "cell_type": "code",
   "execution_count": null,
   "metadata": {
    "collapsed": false,
    "deletable": true,
    "editable": true
   },
   "outputs": [],
   "source": [
    "# Your code here"
   ]
  },
  {
   "cell_type": "markdown",
   "metadata": {},
   "source": [
    "К сожалению, для корректной работы sklearn.SVC с использованием пользовательского ядра необходимо, чтобы объекты являлись числовыми векторами, что не выполняется для необходимого ядра.\n",
    "\n",
    "**7. (0.5 балла)** Преобразуйте матрицы объект-признак обучающей и контрольной выборок следующим образом:\n",
    " * удалите все символы, кроме букв и пробельных символов;\n",
    " * приведите все буквы к нижнему регистру;\n",
    " * разбейте текст на токены по пробельным символам;\n",
    " * удалите токены длиной $\\le 3$ символов;\n",
    " * закодируйте каждый объект выборки последовательностью **номеров** токенов в некотором \"словаре\", состоящем из всех токенов, встречающихся в обучающей выборке; для каждого текста кодируйте 30 первых токенов.\n",
    " \n",
    "Способ кодирования токенов тестовой выборки, не встречающихся в обучающей, а также способ кодирования объектов, состоящих из менее чем 30 токенов, остаётся на ваше усмотрение, однако опишите, как именно были решены эти проблемы."
   ]
  },
  {
   "cell_type": "code",
   "execution_count": null,
   "metadata": {
    "collapsed": false,
    "deletable": true,
    "editable": true
   },
   "outputs": [],
   "source": [
    "# Your code here"
   ]
  },
  {
   "cell_type": "markdown",
   "metadata": {},
   "source": [
    "**8. (1 балл)** Реализуйте функцию, принимающую в качестве параметров 2 строки x и z, и возвращающую значение all-subsequences-kernel для этих строк."
   ]
  },
  {
   "cell_type": "code",
   "execution_count": null,
   "metadata": {
    "collapsed": true
   },
   "outputs": [],
   "source": [
    "def all_subseq_kernel(x, z):\n",
    "    # Your code here"
   ]
  },
  {
   "cell_type": "markdown",
   "metadata": {},
   "source": [
    "**9. (0.5 балла)** Реализуйте функцию, которая принимает в качестве параметров 2 выборки $\\{x_i\\}_{i=1}^l$ и $\\{z_j\\}_{j=1}^n$, закодированные описанным ранее способом, а также используемый словарь токенов, и возвращает матрицу $K = (K_{ij})_{i, j=1}^{l, n},$ где $K_{ij} = \\text{all_subseq_kernel}(x_i, z_j).$\n",
    "\n",
    "Для выполнения данного задания можно использовать функцию [sklearn.metrics.pairwise.pairwise_kernels](http://scikit-learn.org/stable/modules/generated/sklearn.metrics.pairwise.pairwise_kernels.html)."
   ]
  },
  {
   "cell_type": "code",
   "execution_count": null,
   "metadata": {
    "collapsed": false,
    "deletable": true,
    "editable": true
   },
   "outputs": [],
   "source": [
    "def all_subseq_kernel_matrix(X, Z, token_list):\n",
    "    # Your code here"
   ]
  },
  {
   "cell_type": "markdown",
   "metadata": {},
   "source": [
    "**10. (0.5 балла)** Обучите SVM с параметрами по умолчанию с использованием all-subsequences-kernel на обучающей выборке и выведите значение accuracy на тестовой. В случае вычислительных проблем используйте матрицы Грама для обучения и теста, сохраненные в файлах homework-practice-05-train-kernel-matrix.csv и homework-practice-05-test-kernel-matrix.csv соответственно. Обратите внимание, что значения ядра для полученных текстов довольно велики в силу их длины, что может повлечь численные проблемы в процессе обучения модели. Поэтому рекомендуется вместо исходного рассматривать нормированное ядро $\\tilde{K}(x, z) = \\langle \\frac{\\phi(x)}{\\| \\phi(x) \\|}, \\frac{\\phi(z)}{\\| \\phi(z) \\|} \\rangle.$ Перейти к нему можно с использованием значений диагональных элементов соответствующих матриц Грама."
   ]
  },
  {
   "cell_type": "code",
   "execution_count": null,
   "metadata": {
    "collapsed": false
   },
   "outputs": [],
   "source": [
    "# Your code here"
   ]
  },
  {
   "cell_type": "markdown",
   "metadata": {},
   "source": [
    "Иногда в случае больших размеров обучающих выборок используют метод, схожий с аппроксимациями ядер. После решения двойственной задачи ядрового SVM прогноз для нового объекта вычисляется следующим образом:\n",
    "$$a(x) = sign \\left( \\sum_{j=1}^l \\lambda_j y_j K(x_j, x) + b \\right).$$\n",
    "\n",
    "Такое представление позволяет поставить и решить несколько другую задачу. Пусть параметрами модели являются переменные $\\lambda_1, \\dots, \\lambda_l, b$ — в этом случае можно построить линейный классификатор на обучающей выборке в новом признаковом пространстве $Z = (z_{ij})_{i, j=1}^{l, l},$ где $z_{ij} = y_j K(x_i, x_j).$ При этом количество признаков в новом признаковом пространстве будет равно $l$, и каждый из них будет соответствовать некоторому объекту обучающей выборки, поэтому можно взять лишь произвольное подмножество из них.\n",
    "\n",
    "**11. (0.5 балла)** Сформируйте обучающую и тестовую выборки в новом признаковом пространстве, как описано выше, обучите логистическую регрессию с параметрами по умолчанию и выведите значение accuracy на тестовой выборке. Постройте графики зависимости accuracy на тестовой выборке в зависимости от количества признаков в новом признаковом пространстве."
   ]
  },
  {
   "cell_type": "code",
   "execution_count": null,
   "metadata": {
    "collapsed": true
   },
   "outputs": [],
   "source": [
    "# Your code here"
   ]
  },
  {
   "cell_type": "markdown",
   "metadata": {},
   "source": [
    "**12. (1 балл)** Чем, на ваш взгляд, обусловлено такое низкое качество классификации для рассмотренных моделей при использовании all-subsequences-kernel? Какие шаги можно предпринять для улучшения качества?\n",
    "\n",
    "**Ответ**:"
   ]
  },
  {
   "cell_type": "markdown",
   "metadata": {},
   "source": [
    "**13. (1.5 балла)** Улучшите какую-либо модель из пп. 10-11 путём модификации выборки или подбора параметров модели таким образом, чтобы accuracy на той же обучающей выборке, что использовалась ранее, достигало значения 0.58. Опишите ваши изменения модели."
   ]
  },
  {
   "cell_type": "code",
   "execution_count": null,
   "metadata": {
    "collapsed": true
   },
   "outputs": [],
   "source": [
    "# Your code here"
   ]
  },
  {
   "cell_type": "markdown",
   "metadata": {},
   "source": [
    "**Ответ:**"
   ]
  },
  {
   "cell_type": "markdown",
   "metadata": {},
   "source": [
    "**14. (3 доп. балла)** Реализуйте ядро, которое позволяет достичь значения accuracy на тестовой выборке, равного 0.7, при классификации при помощи ядрового SVM."
   ]
  },
  {
   "cell_type": "code",
   "execution_count": null,
   "metadata": {
    "collapsed": true
   },
   "outputs": [],
   "source": [
    "# Your code here"
   ]
  },
  {
   "cell_type": "markdown",
   "metadata": {
    "deletable": true,
    "editable": true
   },
   "source": [
    "Здесь вы можете поделиться своими мыслями по поводу этого задания."
   ]
  },
  {
   "cell_type": "code",
   "execution_count": null,
   "metadata": {
    "collapsed": true,
    "deletable": true,
    "editable": true
   },
   "outputs": [],
   "source": []
  },
  {
   "cell_type": "markdown",
   "metadata": {
    "deletable": true,
    "editable": true
   },
   "source": [
    "А здесь — вставить вашу любимую картинку."
   ]
  },
  {
   "cell_type": "code",
   "execution_count": null,
   "metadata": {
    "collapsed": true,
    "deletable": true,
    "editable": true
   },
   "outputs": [],
   "source": []
  }
 ],
 "metadata": {
  "kernelspec": {
   "display_name": "Python 2",
   "language": "python",
   "name": "python2"
  },
  "language_info": {
   "codemirror_mode": {
    "name": "ipython",
    "version": 2
   },
   "file_extension": ".py",
   "mimetype": "text/x-python",
   "name": "python",
   "nbconvert_exporter": "python",
   "pygments_lexer": "ipython2",
   "version": "2.7.11"
  }
 },
 "nbformat": 4,
 "nbformat_minor": 0
}
