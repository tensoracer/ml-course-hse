{
 "cells": [
  {
   "cell_type": "markdown",
   "metadata": {},
   "source": [
    "# Машинное обучение, ФКН ВШЭ\n",
    "\n",
    "# Семинар 11. Графы вычислений (часть 2)"
   ]
  },
  {
   "cell_type": "markdown",
   "metadata": {},
   "source": [
    "## Tensorflow\n",
    "\n",
    "Tensorflow -- это не только фреймворк для нейронных сетей, но и библиотека для разнообразных вычислений по вычислительным графам. В прошлом месяца на tensorflow реализовали даже [градиентный бустинг](https://arxiv.org/abs/1710.11555)!"
   ]
  },
  {
   "cell_type": "code",
   "execution_count": 19,
   "metadata": {},
   "outputs": [
    {
     "name": "stdout",
     "output_type": "stream",
     "text": [
      "Populating the interactive namespace from numpy and matplotlib\n"
     ]
    }
   ],
   "source": [
    "%pylab inline\n",
    "import tensorflow as tf"
   ]
  },
  {
   "cell_type": "markdown",
   "metadata": {},
   "source": [
    "Рассмотрим простой пример использования tensorflow – умножим матрицу на вектор\n",
    "\n",
    "Строим вычислительный граф:"
   ]
  },
  {
   "cell_type": "code",
   "execution_count": 20,
   "metadata": {},
   "outputs": [],
   "source": [
    "x = tf.placeholder(dtype=tf.float32, shape=[3,1])\n",
    "W = tf.placeholder(dtype=tf.float32, shape=[3,3])\n",
    "multiplication = tf.matmul(W,x)\n",
    "init = tf.initialize_all_variables()"
   ]
  },
  {
   "cell_type": "markdown",
   "metadata": {},
   "source": [
    "Вычисляем наш граф в сессии"
   ]
  },
  {
   "cell_type": "code",
   "execution_count": 21,
   "metadata": {},
   "outputs": [
    {
     "name": "stdout",
     "output_type": "stream",
     "text": [
      "[[ 1.]\n",
      " [ 1.]\n",
      " [ 1.]]\n",
      "[[0 1 2]\n",
      " [3 4 5]\n",
      " [6 7 8]]\n",
      "[[  3.]\n",
      " [ 12.]\n",
      " [ 21.]]\n"
     ]
    }
   ],
   "source": [
    "with tf.Session() as sess:\n",
    "    sess.run(init)\n",
    "    input_x = np.ones(3).reshape([3,1])\n",
    "    input_W = np.arange(9).reshape([3,3])\n",
    "    print(input_x)\n",
    "    print(input_W)\n",
    "    print(sess.run(multiplication, {\n",
    "            x:input_x,\n",
    "            W:input_W\n",
    "        }))"
   ]
  },
  {
   "cell_type": "markdown",
   "metadata": {},
   "source": [
    "Пусть теперь мы хотим задать матрицу $W$ один раз и больше её не трогать\n",
    "\n",
    "Построим вычислительный граф"
   ]
  },
  {
   "cell_type": "code",
   "execution_count": 22,
   "metadata": {},
   "outputs": [],
   "source": [
    "tf.reset_default_graph()\n",
    "x = tf.placeholder(dtype=tf.float32, shape=[3,1])\n",
    "W = tf.get_variable('W', [3,3], initializer=tf.constant_initializer(0.0), dtype=tf.float32)\n",
    "assign_op = W.assign(input_W)\n",
    "multiplication = tf.matmul(W,x)\n",
    "init = tf.initialize_all_variables()"
   ]
  },
  {
   "cell_type": "markdown",
   "metadata": {},
   "source": [
    "Заметьте, что добавилась операция присваивания, но это только операция в графе, т.е. если мы не выполним её в сессии, то матрица $W$ останется нулевой.\n",
    "\n",
    "Проверим это:"
   ]
  },
  {
   "cell_type": "code",
   "execution_count": 23,
   "metadata": {},
   "outputs": [
    {
     "name": "stdout",
     "output_type": "stream",
     "text": [
      "[[ 1.]\n",
      " [ 1.]\n",
      " [ 1.]]\n",
      "[[0 1 2]\n",
      " [3 4 5]\n",
      " [6 7 8]]\n",
      "[[ 0.]\n",
      " [ 0.]\n",
      " [ 0.]]\n"
     ]
    }
   ],
   "source": [
    "with tf.Session() as sess:\n",
    "    sess.run(init)\n",
    "    input_x = np.ones(3).reshape([3,1])\n",
    "    print(input_x)\n",
    "    print(input_W)\n",
    "    print(sess.run(multiplication, {\n",
    "            x:input_x\n",
    "        }))"
   ]
  },
  {
   "cell_type": "markdown",
   "metadata": {},
   "source": [
    "Теперь выполним эту операцию и убедимся, что матрица $W$ приняла нужное нам значение."
   ]
  },
  {
   "cell_type": "code",
   "execution_count": 24,
   "metadata": {},
   "outputs": [
    {
     "name": "stdout",
     "output_type": "stream",
     "text": [
      "[[ 1.]\n",
      " [ 1.]\n",
      " [ 1.]]\n",
      "[[0 1 2]\n",
      " [3 4 5]\n",
      " [6 7 8]]\n",
      "[[  3.]\n",
      " [ 12.]\n",
      " [ 21.]]\n"
     ]
    }
   ],
   "source": [
    "with tf.Session() as sess:\n",
    "    sess.run(init)\n",
    "    sess.run(assign_op)\n",
    "    input_x = np.ones(3).reshape([3,1])\n",
    "    print(input_x)\n",
    "    print(input_W)\n",
    "    print(sess.run(multiplication, {\n",
    "            x:input_x,\n",
    "            W:input_W\n",
    "        }))"
   ]
  },
  {
   "cell_type": "markdown",
   "metadata": {},
   "source": [
    "### Вычисление градиента\n",
    "\n",
    "Основная идея использования вычислительных графов это автоматическое вычисление градиентов.\n",
    "\n",
    "Посмотрим как это работает - вычислим производную потенциала Леннард-Джонса"
   ]
  },
  {
   "cell_type": "code",
   "execution_count": 25,
   "metadata": {},
   "outputs": [],
   "source": [
    "tf.reset_default_graph()\n",
    "r = tf.placeholder(dtype=tf.float32, shape=1)\n",
    "depth = 1.0\n",
    "sigma = 1.0\n",
    "U = 4*depth*((sigma/r)**12 - (sigma/r)**6)\n",
    "grad_U = tf.gradients(U, r)\n",
    "init = tf.initialize_all_variables()"
   ]
  },
  {
   "cell_type": "code",
   "execution_count": 26,
   "metadata": {},
   "outputs": [],
   "source": [
    "with tf.Session() as sess:\n",
    "    sess.run(init)\n",
    "    r_axis = np.arange(0.98, 2.01, 0.01)\n",
    "    U_axis = []\n",
    "    grad_axis = []\n",
    "    for r_point in r_axis:\n",
    "        U_axis.append(sess.run(U, {r:[r_point]}))\n",
    "        grad_axis.append(sess.run(grad_U, {r:[r_point]})[0])"
   ]
  },
  {
   "cell_type": "code",
   "execution_count": 27,
   "metadata": {},
   "outputs": [
    {
     "data": {
      "image/png": "[encoded data removed]",
      "text/plain": [
       "<matplotlib.figure.Figure at 0x11b935a58>"
      ]
     },
     "metadata": {},
     "output_type": "display_data"
    },
    {
     "data": {
      "image/png": "[encoded data removed]",
      "text/plain": [
       "<matplotlib.figure.Figure at 0x11b89add8>"
      ]
     },
     "metadata": {},
     "output_type": "display_data"
    }
   ],
   "source": [
    "plt.plot(r_axis, U_axis)\n",
    "plt.axhline(0.0, c='r')\n",
    "plt.xlabel('distance', fontsize=20)\n",
    "plt.ylabel('erg', fontsize=20)\n",
    "plt.grid()\n",
    "plt.show()\n",
    "\n",
    "plt.plot(r_axis, grad_axis)\n",
    "plt.axhline(0.0, c='r')\n",
    "plt.xlabel('distance', fontsize=20)\n",
    "plt.ylabel('grad', fontsize=20)\n",
    "plt.grid()"
   ]
  },
  {
   "cell_type": "markdown",
   "metadata": {},
   "source": [
    "## MNIST\n",
    "\n",
    "<img src='images/mnist.png'>\n",
    "\n",
    "Идея простая – на классическом довольно простом датасете с цифрами обучить сеть для классификации цифр. \n",
    "\n",
    "Скачаем данные:"
   ]
  },
  {
   "cell_type": "code",
   "execution_count": 28,
   "metadata": {},
   "outputs": [
    {
     "name": "stdout",
     "output_type": "stream",
     "text": [
      "Extracting tmp/data/train-images-idx3-ubyte.gz\n",
      "Extracting tmp/data/train-labels-idx1-ubyte.gz\n",
      "Extracting tmp/data/t10k-images-idx3-ubyte.gz\n",
      "Extracting tmp/data/t10k-labels-idx1-ubyte.gz\n"
     ]
    }
   ],
   "source": [
    "from tensorflow.examples.tutorials.mnist import input_data\n",
    "mnist = input_data.read_data_sets(\"tmp/data/\", one_hot=False)"
   ]
  },
  {
   "cell_type": "markdown",
   "metadata": {},
   "source": [
    "Зададим некоторые параметры:"
   ]
  },
  {
   "cell_type": "code",
   "execution_count": 29,
   "metadata": {},
   "outputs": [],
   "source": [
    "learning_rate = 0.001\n",
    "num_steps = 2000\n",
    "batch_size = 128\n",
    "\n",
    "num_input = 784\n",
    "num_classes = 10\n",
    "dropout = 0.75"
   ]
  },
  {
   "cell_type": "markdown",
   "metadata": {},
   "source": [
    "Реализуем архитектуру сети и её обучение:"
   ]
  },
  {
   "cell_type": "code",
   "execution_count": 30,
   "metadata": {},
   "outputs": [],
   "source": [
    "def conv_net(x_dict, n_classes, dropout, reuse, is_training):    \n",
    "    with tf.variable_scope('ConvNet', reuse=reuse):\n",
    "        x = x_dict['images']\n",
    "        x = tf.reshape(x, shape=[-1, 28, 28, 1])\n",
    "\n",
    "        conv1 = tf.layers.conv2d(x, 32, 5, activation=tf.nn.relu)\n",
    "        conv1 = tf.layers.max_pooling2d(conv1, 2, 2)\n",
    "\n",
    "        conv2 = tf.layers.conv2d(conv1, 64, 3, activation=tf.nn.relu)\n",
    "        conv2 = tf.layers.max_pooling2d(conv2, 2, 2)\n",
    "\n",
    "        fc1 = tf.contrib.layers.flatten(conv2)\n",
    "        fc1 = tf.layers.dense(fc1, 1024)\n",
    "        fc1 = tf.layers.dropout(fc1, rate=dropout, training=is_training)\n",
    "\n",
    "        out = tf.layers.dense(fc1, n_classes)\n",
    "    return out"
   ]
  },
  {
   "cell_type": "code",
   "execution_count": 31,
   "metadata": {},
   "outputs": [],
   "source": [
    "def model_fn(features, labels, mode):\n",
    "    logits_train = conv_net(features, num_classes, dropout, reuse=False, is_training=True)\n",
    "    logits_test = conv_net(features, num_classes, dropout, reuse=True, is_training=False)\n",
    "    \n",
    "    pred_classes = tf.argmax(logits_test, axis=1)\n",
    "    pred_probas = tf.nn.softmax(logits_test)\n",
    "    \n",
    "    if mode == tf.estimator.ModeKeys.PREDICT:\n",
    "        return tf.estimator.EstimatorSpec(mode, predictions=pred_classes) \n",
    "        \n",
    "    loss_op = tf.reduce_mean(tf.nn.sparse_softmax_cross_entropy_with_logits(\n",
    "        logits=logits_train, labels=tf.cast(labels, dtype=tf.int32)))\n",
    "    optimizer = tf.train.AdamOptimizer(learning_rate=learning_rate)\n",
    "    train_op = optimizer.minimize(loss_op, global_step=tf.train.get_global_step())\n",
    "    \n",
    "    acc_op = tf.metrics.accuracy(labels=labels, predictions=pred_classes)\n",
    "    estim_specs = tf.estimator.EstimatorSpec(\n",
    "      mode=mode,\n",
    "      predictions=pred_classes,\n",
    "      loss=loss_op,\n",
    "      train_op=train_op,\n",
    "      eval_metric_ops={'accuracy': acc_op})\n",
    "\n",
    "    return estim_specs"
   ]
  },
  {
   "cell_type": "markdown",
   "metadata": {},
   "source": [
    "Инициализируем сеть и сделаем одну эпоху обучения (1 проход по обучающей выборке):"
   ]
  },
  {
   "cell_type": "code",
   "execution_count": 32,
   "metadata": {},
   "outputs": [
    {
     "name": "stdout",
     "output_type": "stream",
     "text": [
      "INFO:tensorflow:Using default config.\n",
      "WARNING:tensorflow:Using temporary folder as model directory: /var/folders/qd/btw7mcns7dl1t_lwnbwjclqrxngbhy/T/tmp9uuu73fa\n",
      "INFO:tensorflow:Using config: {'_model_dir': '/var/folders/qd/btw7mcns7dl1t_lwnbwjclqrxngbhy/T/tmp9uuu73fa', '_tf_random_seed': None, '_save_summary_steps': 100, '_save_checkpoints_steps': None, '_save_checkpoints_secs': 600, '_session_config': None, '_keep_checkpoint_max': 5, '_keep_checkpoint_every_n_hours': 10000, '_log_step_count_steps': 100, '_service': None, '_cluster_spec': <tensorflow.python.training.server_lib.ClusterSpec object at 0x11de15358>, '_task_type': 'worker', '_task_id': 0, '_master': '', '_is_chief': True, '_num_ps_replicas': 0, '_num_worker_replicas': 1}\n"
     ]
    }
   ],
   "source": [
    "model = tf.estimator.Estimator(model_fn)"
   ]
  },
  {
   "cell_type": "code",
   "execution_count": 33,
   "metadata": {},
   "outputs": [
    {
     "name": "stdout",
     "output_type": "stream",
     "text": [
      "INFO:tensorflow:Create CheckpointSaverHook.\n",
      "INFO:tensorflow:Saving checkpoints for 1 into /var/folders/qd/btw7mcns7dl1t_lwnbwjclqrxngbhy/T/tmp9uuu73fa/model.ckpt.\n",
      "INFO:tensorflow:loss = 2.31788, step = 1\n",
      "INFO:tensorflow:global_step/sec: 5.83406\n",
      "INFO:tensorflow:loss = 0.1349, step = 101 (17.142 sec)\n",
      "INFO:tensorflow:global_step/sec: 6.50932\n",
      "INFO:tensorflow:loss = 0.102773, step = 201 (15.363 sec)\n",
      "INFO:tensorflow:global_step/sec: 6.15757\n",
      "INFO:tensorflow:loss = 0.0668993, step = 301 (16.241 sec)\n",
      "INFO:tensorflow:global_step/sec: 4.78691\n",
      "INFO:tensorflow:loss = 0.0821949, step = 401 (20.890 sec)\n",
      "INFO:tensorflow:Saving checkpoints for 430 into /var/folders/qd/btw7mcns7dl1t_lwnbwjclqrxngbhy/T/tmp9uuu73fa/model.ckpt.\n",
      "INFO:tensorflow:Loss for final step: 0.111167.\n"
     ]
    },
    {
     "data": {
      "text/plain": [
       "<tensorflow.python.estimator.estimator.Estimator at 0x11de15208>"
      ]
     },
     "execution_count": 33,
     "metadata": {},
     "output_type": "execute_result"
    }
   ],
   "source": [
    "input_fn = tf.estimator.inputs.numpy_input_fn(\n",
    "    x={'images': mnist.train.images}, y=mnist.train.labels,\n",
    "    batch_size=batch_size, num_epochs=1, shuffle=True\n",
    ")\n",
    "model.train(input_fn, steps=num_steps)"
   ]
  },
  {
   "cell_type": "markdown",
   "metadata": {},
   "source": [
    "Сделаем предсказания на тестовой выборке:"
   ]
  },
  {
   "cell_type": "code",
   "execution_count": 34,
   "metadata": {},
   "outputs": [
    {
     "name": "stdout",
     "output_type": "stream",
     "text": [
      "INFO:tensorflow:Restoring parameters from /var/folders/qd/btw7mcns7dl1t_lwnbwjclqrxngbhy/T/tmp9uuu73fa/model.ckpt-430\n"
     ]
    }
   ],
   "source": [
    "y_pred = []\n",
    "for y in model.predict(tf.estimator.inputs.numpy_input_fn(x={'images': mnist.test.images}, \n",
    "                                                          batch_size=batch_size, shuffle=False)):\n",
    "    y_pred.append(y)"
   ]
  },
  {
   "cell_type": "markdown",
   "metadata": {},
   "source": [
    "Оценим точность:"
   ]
  },
  {
   "cell_type": "code",
   "execution_count": 35,
   "metadata": {},
   "outputs": [
    {
     "data": {
      "text/plain": [
       "0.98440000000000005"
      ]
     },
     "execution_count": 35,
     "metadata": {},
     "output_type": "execute_result"
    }
   ],
   "source": [
    "np.mean(np.array(y_pred) == mnist.test.labels)"
   ]
  }
 ],
 "metadata": {
  "kernelspec": {
   "display_name": "py36",
   "language": "python",
   "name": "py36"
  },
  "language_info": {
   "codemirror_mode": {
    "name": "ipython",
    "version": 3
   },
   "file_extension": ".py",
   "mimetype": "text/x-python",
   "name": "python",
   "nbconvert_exporter": "python",
   "pygments_lexer": "ipython3",
   "version": "3.6.1"
  }
 },
 "nbformat": 4,
 "nbformat_minor": 1
}
