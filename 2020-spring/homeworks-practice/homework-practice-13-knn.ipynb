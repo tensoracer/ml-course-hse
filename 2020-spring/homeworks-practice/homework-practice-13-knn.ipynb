{
 "cells": [
  {
   "cell_type": "markdown",
   "metadata": {
    "id": "g5MRyF5As2jU"
   },
   "source": [
    "# Машинное обучение, ФКН ВШЭ\n",
    "\n",
    "# Практическое задание 13. Поиск ближайших соседей\n",
    "\n",
    "## Общая информация\n",
    "\n",
    "Дата выдачи: 07.06.2021\n",
    "\n",
    "Жёсткий дедлайн: 19.06.2021 05:59 MSK\n",
    "\n",
    "## Оценивание и штрафы\n",
    "\n",
    "Каждая из задач имеет определенную «стоимость» (указана в скобках около задачи). Максимальная оценка за работу — 10 баллов.\n",
    "\n",
    "Сдавать задание после указанного жёсткого срока сдачи нельзя. При выставлении неполного балла за задание в связи с наличием ошибок на усмотрение проверяющего предусмотрена возможность исправить работу на указанных в ответном письме условиях.\n",
    "\n",
    "Задание выполняется самостоятельно. «Похожие» решения считаются плагиатом и все задействованные студенты (в том числе те, у кого списали) не могут получить за него больше 0 баллов (подробнее о плагиате см. на странице курса). Если вы нашли решение какого-то из заданий (или его часть) в открытом источнике, необходимо указать ссылку на этот источник в отдельном блоке в конце вашей работы (скорее всего вы будете не единственным, кто это нашел, поэтому чтобы исключить подозрение в плагиате, необходима ссылка на источник).\n",
    "\n",
    "Неэффективная реализация кода может негативно отразиться на оценке.\n",
    "\n",
    "## Формат сдачи\n",
    "\n",
    "Задания сдаются через систему anytask. Посылка должна содержать:\n",
    "\n",
    "* Ноутбук homework-practice-13-knn-Username.ipynb\n",
    "\n",
    "Username — ваша фамилия на латинице.\n",
    "\n",
    "---"
   ]
  },
  {
   "cell_type": "markdown",
   "metadata": {},
   "source": [
    "# Вам нужно реализовать один из алгоритмов на выбор - LSH или NSW"
   ]
  },
  {
   "cell_type": "markdown",
   "metadata": {
    "id": "VoNukam0s2jU"
   },
   "source": [
    "\n",
    "В этом задании мы будем работать с датасетом [FashionMnist](https://github.com/zalandoresearch/fashion-mnist) изображений предметов одежды и обуви. В файле уже находится массив со 100 найденными соседями каждого тестового объекта по евклидовой метрике, однако мы для начала (чтобы реализовать метод случайных проекций) попробуем найти 100 ближайших соседей для каждого объекта по косинусной близости."
   ]
  },
  {
   "cell_type": "code",
   "execution_count": null,
   "metadata": {
    "id": "69ZzHf0us2jU"
   },
   "outputs": [],
   "source": [
    "! wget -nc -q http: // ann-benchmarks.com / fashion-mnist-784-euclidean.hdf5"
   ]
  },
  {
   "cell_type": "code",
   "execution_count": 1,
   "metadata": {
    "colab": {
     "base_uri": "https://localhost:8080/"
    },
    "id": "iEF8H9qys2jV",
    "outputId": "f112bd08-bd1a-4a34-c8e6-15881d359cac"
   },
   "outputs": [
    {
     "name": "stdout",
     "output_type": "stream",
     "text": [
      "(60000, 784)\n",
      "(10000, 784)\n",
      "(10000, 100)\n"
     ]
    }
   ],
   "source": [
    "import h5py\n",
    "\n",
    "\n",
    "with h5py.File('fashion-mnist-784-euclidean.hdf5', 'r') as f:\n",
    "    train = f['train'][()]\n",
    "    test = f['test'][()]\n",
    "    true_neighbors_eucl = f['neighbors'][()]\n",
    "\n",
    "print(train.shape)\n",
    "print(test.shape)\n",
    "print(true_neighbors_eucl.shape)"
   ]
  },
  {
   "cell_type": "code",
   "execution_count": 2,
   "metadata": {
    "colab": {
     "base_uri": "https://localhost:8080/",
     "height": 261
    },
    "id": "-cAT3zpPs2jV",
    "outputId": "ef41e56d-7a14-43da-f971-3c69dae1f84c"
   },
   "outputs": [
    {
     "data": {
      "image/png": "[encoded data removed]",
      "text/plain": [
       "<Figure size 1152x288 with 4 Axes>"
      ]
     },
     "metadata": {
      "needs_background": "light"
     },
     "output_type": "display_data"
    }
   ],
   "source": [
    "import matplotlib.pyplot as plt\n",
    "\n",
    "\n",
    "plt.figure(figsize=(16, 4))\n",
    "\n",
    "plt.subplot(141)\n",
    "plt.imshow(train[0].reshape(28, 28))\n",
    "\n",
    "plt.subplot(142)\n",
    "plt.imshow(train[1].reshape(28, 28))\n",
    "\n",
    "plt.subplot(143)\n",
    "plt.imshow(train[3].reshape(28, 28))\n",
    "\n",
    "plt.subplot(144)\n",
    "plt.imshow(train[5].reshape(28, 28))\n",
    "\n",
    "plt.show()"
   ]
  },
  {
   "cell_type": "markdown",
   "metadata": {
    "id": "kGWk6iu-s2jW"
   },
   "source": [
    "В библиотеке `scikit-learn` есть модуль с алгоритмами поиска ближайших соседей, помогающий решать задачи классификации и регрессии. В этом задании, однако, нас будет интересовать не классификация, а качество и скорость решения непосредственно задачи поиска. Определим для этого две метрики:\n",
    "\n",
    "* **Recall**: доля «настоящих соседей», которых нашёл алгоритм поиска. Пример: если вам необходимо найти 100 ближайших соседей, и из 100 возвращённых алгоритмом объектов 93 действительно находятся в множестве ближайших, то полнота равна 0.93.\n",
    "\n",
    "\n",
    "* **Queries per second (QPS), также requests per second (RPS)**: число запросов, на которое алгоритм успевает ответить за одну секунду. Часто эту характеристику вычисляют как $\\dfrac{num\\_queries}{total\\_time}$, где $num\\_queries$ — общее число запросов, а $total\\_time$ — суммарное время их выполнения; однако, так как некоторые реализации в задании умеют группировать запросы и выполнять несколько параллельно, мы будем осуществлять их по отдельности и усреднять величину $\\dfrac{1}{request\\_time}$.\n",
    "\n",
    "Хотя в классе `NearestNeighbors` нет методов приближённого поиска ближайших соседей, мы воспользуемся им, чтобы найти 100 ближайших объектов по косинусной близости, сформировав таким образом правильные ответы для приближённых методов. Алгоритмы `kd_tree` и `ball_tree` в этом классе не поддерживают `metric=cosine`, поэтому распараллелим полный перебор:"
   ]
  },
  {
   "cell_type": "code",
   "execution_count": null,
   "metadata": {
    "id": "V9kju2evs2jW"
   },
   "outputs": [],
   "source": [
    "from sklearn.neighbors import NearestNeighbors\n",
    "\n",
    "\n",
    "sklearn_index = NearestNeighbors(\n",
    "    n_neighbors=100,\n",
    "    algorithm='brute',\n",
    "    metric='cosine',\n",
    "    n_jobs=-1\n",
    ")\n",
    "\n",
    "sklearn_index.fit(train)\n",
    "\n",
    "true_neighbors_cosine = sklearn_index.kneighbors(\n",
    "    test,\n",
    "    n_neighbors=100,\n",
    "    return_distance=False\n",
    ")"
   ]
  },
  {
   "cell_type": "code",
   "execution_count": null,
   "metadata": {},
   "outputs": [],
   "source": [
    "from tqdm.auto import tqdm\n",
    "from time import perf_counter\n",
    "\n",
    "\n",
    "def compute_recall_qps(query_func: callable, test_set: np.ndarray, true_neighbors: np.ndarray, **kwargs):\n",
    "    \"\"\"\n",
    "    Given a function that returns a list of nearest neighbors, estimate its recall and speed.\n",
    "    Args:\n",
    "        query_func: function with signature (query, k_neighbors, **kwargs).\n",
    "            Returns a list of k_neighbors approximate nearest neighbors for a query\n",
    "        test_set: array with shape (num_objects, dim). Contains query vectors for recall evaluation\n",
    "        true_neighbors: array of indices with shape (num_objects, num_neighbors). Contains ground truth data for\n",
    "            recall evaluation. k_neighbors from query_func is inferred from its shape\n",
    "        **kwargs: passed to query_func\n",
    "    Returns:\n",
    "        avg_recall: average recall of query_func over the test set\n",
    "        qps: number of queries per second handled by query_func \n",
    "    \"\"\"\n",
    "    recalls = []\n",
    "    query_times = []\n",
    "\n",
    "    for sample, neighbors_for_sample in zip(test_set, tqdm(true_neighbors)):\n",
    "        start = perf_counter()\n",
    "\n",
    "        approx_neighbors = query_func(sample, k_neighbors=neighbors_for_sample.shape[0], **kwargs)\n",
    "\n",
    "        query_times.append(1 / (perf_counter() - start))\n",
    "\n",
    "        set_true = set(neighbors_for_sample.tolist())\n",
    "        hits = sum(1 for neighbor in approx_neighbors if neighbor in set_true)\n",
    "\n",
    "        recalls.append(hits / len(set_true))\n",
    "\n",
    "    return np.mean(recalls), np.mean(query_times)"
   ]
  },
  {
   "cell_type": "markdown",
   "metadata": {
    "id": "8ehlHxnMEKqg"
   },
   "source": [
    "**Задание 1. (7 баллов)**\n",
    "\n",
    "Реализуйте все методы класса `LSHIndex` или [`NSWIndex`](https://publications.hse.ru/mirror/pubs/share/folder/x5p6h7thif/direct/128296059), а затем постройте индекс по датасету `FashionMNIST` и подсчитайте recall вашего решения. \n",
    "\n",
    "Чтобы для удобства вместо косинусной близости считать скалярное произведение, и обучающую, и тестовую части датасета можно нормировать заранее."
   ]
  },
  {
   "cell_type": "code",
   "execution_count": null,
   "metadata": {
    "id": "XofvLioNs2jW"
   },
   "outputs": [],
   "source": [
    "# LSH\n",
    "\n",
    "\n",
    "def compute_hashes(matrices, query):\n",
    "    \"\"\"\n",
    "    Compute hash values for each hash table and a given vector.\n",
    "    Args:\n",
    "        matrices: np.array of shape (NUM_TABLES, NUM_BITS, dim), last axis represents\n",
    "            random hyperplanes for each hash bit of each table\n",
    "        query: vector to be hashed\n",
    "    Returns:\n",
    "        hashes: np.array of shape (NUM_TABLES, ), contains hash values for each table as unsigned integers\n",
    "    \"\"\"\n",
    "\n",
    "    # YOUR CODE HERE\n",
    "\n",
    "    raise NotImplementedError\n",
    "\n",
    "\n",
    "class LSHIndex:\n",
    "\n",
    "    def __init__(self, vectors, projection_matrices):\n",
    "        \"\"\"\n",
    "        Build the index and store vectors for efficient neighbors search.\n",
    "        Args:\n",
    "            vectors: Training data, np.array (num_vectors, dim). Each k-NN query looks for neighbors in this set\n",
    "            projection_matrices: np.array of shape (NUM_TABLES, NUM_BITS, dim), last axis represents\n",
    "                random hyperplanes for each hash bit of each table\n",
    "        \"\"\"\n",
    "\n",
    "        # YOUR CODE HERE\n",
    "\n",
    "        raise NotImplementedError\n",
    "\n",
    "    def query(self, query, k_neighbors):\n",
    "        \"\"\"\n",
    "        A helper function to perform a k-NN query.\n",
    "        Args:\n",
    "            query: a normalized query vector the neighbors of which we need to find\n",
    "            k_neighbors: the number of neighbors to return\n",
    "        Returns:\n",
    "            neighbors: a list of indices in the dataset\n",
    "                used to build the index. Vectors at these positions represent approximate k nearest neighbors of\n",
    "                the query, indices do not need to be sorted by any property\n",
    "        \"\"\"\n",
    "        hashes = compute_hashes(np.asarray(self.matrices), query)\n",
    "\n",
    "        return self._search_neighbors(query, k_neighbors, hashes)\n",
    "\n",
    "    def _search_neighbors(self, query, k_neighbors, hashes):\n",
    "        \"\"\"\n",
    "        All the fun happens here. Given a sample, its hashes and the number  of neighbors, locate nearest neighbors\n",
    "            wrt cosine similarity using the hash tables built during index construction.\n",
    "        Args:\n",
    "            query: a normalized query vector the neighbors of which we need to find\n",
    "            k_neighbors: the number of neighbors to return\n",
    "            hashes: an array containing hash values of query for each hash table\n",
    "        Returns:\n",
    "            neighbors: a list of indices in the dataset\n",
    "                used to build the index. Vectors at these positions represent approximate k nearest neighbors of\n",
    "                the query, indices do not need to be sorted by any property\n",
    "        \"\"\"\n",
    "\n",
    "        # YOUR CODE HERE\n",
    "\n",
    "        raise NotImplementedError"
   ]
  },
  {
   "cell_type": "code",
   "execution_count": null,
   "metadata": {},
   "outputs": [],
   "source": [
    "# NSW\n",
    "\n",
    "\n",
    "class NSWIndex:\n",
    "\n",
    "    def __init__(self, vectors, num_neighbors, num_construction_runs):\n",
    "        \"\"\"\n",
    "        Build the index and store vectors for efficient neighbors search.\n",
    "        Args:\n",
    "            vectors: Training data, np.array (num_vectors, dim). Each k-NN query looks for neighbors in this set\n",
    "            num_neighbors: how many neighbors to look for during sequential insertion\n",
    "            num_construction_runs: number of search attempts in k-NN search during construction\n",
    "        \"\"\"\n",
    "        # YOUR CODE HERE\n",
    "\n",
    "        raise NotImplementedError\n",
    "\n",
    "    def query(self, query, k_neighbors, num_search_runs):\n",
    "        \"\"\"\n",
    "        A helper function to perform a k-NN query. Used to ensure that _knn_search can be called with GIL lifted.\n",
    "        Args:\n",
    "            query: a normalized query vector the neighbors of which we need to find\n",
    "            k_neighbors: the number of neighbors to return\n",
    "            num_search_runs: number of search attempts (parameter m in the NSW paper)\n",
    "        Returns:\n",
    "            neighbors: a list of indices in the dataset used to build the index. Vectors at these positions\n",
    "            represent approximate k nearest neighbors of the query, indices do not need to be sorted\n",
    "        \"\"\"\n",
    "        return self._knn_search(query, k_neighbors, num_search_runs)\n",
    "\n",
    "    def _knn_search(self, query, k_neighbors, num_search_runs):\n",
    "        \"\"\"\n",
    "        Run the NSW search algorithm in a constructed graph.\n",
    "        Args:\n",
    "            query: a normalized query vector the neighbors of which we need to find\n",
    "            k_neighbors: the number of neighbors to return\n",
    "            num_search_runs: number of search attempts (parameter m in the NSW paper)\n",
    "        Returns:\n",
    "            neighbors: a list of indices in the dataset used to build the index. Vectors at these positions\n",
    "            represent approximate k nearest neighbors of the query, indices do not need to be sorted\n",
    "        \"\"\"\n",
    "        # YOUR CODE HERE\n",
    "\n",
    "        raise NotImplementedError"
   ]
  },
  {
   "cell_type": "markdown",
   "metadata": {
    "id": "oYz7M6Xds2jX"
   },
   "source": [
    "Функции для подсчета нужных метрик"
   ]
  },
  {
   "cell_type": "code",
   "execution_count": null,
   "metadata": {
    "id": "O8368wQzs2jY"
   },
   "outputs": [],
   "source": [
    "# YOUR CODE HERE\n",
    "\n",
    "# recall, qps = ...\n",
    "\n",
    "print(recall, qps)\n",
    "\n",
    "assert recall >= 0.95"
   ]
  },
  {
   "cell_type": "markdown",
   "metadata": {
    "id": "f-82d1ZfEe3J"
   },
   "source": [
    "Визуализируйте пример работы алгоритма: найдите 5 ближайших соседей для нескольких объектов тестовой выборки и покажите, каким изображениям они соответствуют (вместе с самим запросом)."
   ]
  },
  {
   "cell_type": "code",
   "execution_count": null,
   "metadata": {
    "id": "g2Ho_mPks2jY"
   },
   "outputs": [],
   "source": [
    "# YOUR CODE HERE"
   ]
  },
  {
   "cell_type": "markdown",
   "metadata": {
    "id": "qOBxfVzds2jY"
   },
   "source": [
    "**Задание 2. (3 балла)**\n",
    "\n",
    "Исследуйте и покажите на графиках зависимость recall и QPS от размера хэша и числа хэш-таблиц в случае `LSH` или `num_construction_runs` и `num_search_runs` в случае NSW.\n",
    "\n",
    "Сравните вашу реализацию с классом `sklearn.neighbors.NearestNeighbors`: так как для косинусной близости в этом классе поддерживается только `algorithm='brute'`, вы получите время работы точного поиска ближайших соседей. Для честности сравнения укажите в конструкторе метода `n_jobs` равным 1 и при замерах времени проводите поиск соседей для каждого объекта отдельно.\n",
    "\n",
    "Отметьте соответствующую ему точку на графике recall-QPS, а затем с помощью перебора гиперпараметров постройте кривую в этих координатах для вашей реализации (нужно протестировать хотя бы 5 различных комбинаций). При построении можете вдохновляться графиками с сайта [ann-benchmarks](http://ann-benchmarks.com/):\n",
    "\n",
    "![](http://ann-benchmarks.com/fashion-mnist-784-euclidean_100_euclidean.png)"
   ]
  },
  {
   "cell_type": "code",
   "execution_count": null,
   "metadata": {
    "id": "JuxdG4zAs2jY"
   },
   "outputs": [],
   "source": [
    "# YOUR CODE HERE"
   ]
  },
  {
   "cell_type": "markdown",
   "metadata": {},
   "source": [
    "**Бонус. (0.01 балла)**\n",
    "\n",
    "Приложите свой любимый рецепт (необязательно завтрака) и расскажите, почему он вам так нравится."
   ]
  },
  {
   "cell_type": "markdown",
   "metadata": {},
   "source": []
  }
 ],
 "metadata": {
  "colab": {
   "collapsed_sections": [],
   "name": "ML2 HW KNN.ipynb",
   "provenance": [],
   "toc_visible": true
  },
  "kernelspec": {
   "display_name": "Python 3",
   "language": "python",
   "name": "python3"
  },
  "language_info": {
   "codemirror_mode": {
    "name": "ipython",
    "version": 3
   },
   "file_extension": ".py",
   "mimetype": "text/x-python",
   "name": "python",
   "nbconvert_exporter": "python",
   "pygments_lexer": "ipython3",
   "version": "3.9.5"
  }
 },
 "nbformat": 4,
 "nbformat_minor": 1
}